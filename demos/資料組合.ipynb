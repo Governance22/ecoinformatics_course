{
 "cells": [
  {
   "cell_type": "markdown",
   "metadata": {},
   "source": [
    "# 資料組合\n",
    "\n",
    "當處理資料時，有時候會新增刪減欄位、資料，之前我們介紹過 R 簡單的資料結構，並使用 data.frame 來儲存管理資料。一般來說如果單純要在 data.frame 中加上新的欄位，我們可以使用 ```cbind()``` (也就是 <font color=\"red\">c</font>olumn <font color=\"red\">bind</font>的意思，把欄位綁在一起)，如下面的範例：\n",
    "\n"
   ]
  },
  {
   "cell_type": "code",
   "execution_count": 1,
   "metadata": {},
   "outputs": [
    {
     "data": {
      "text/html": [
       "<table>\n",
       "<thead><tr><th></th><th scope=col>mpg</th><th scope=col>cyl</th><th scope=col>disp</th><th scope=col>hp</th><th scope=col>drat</th><th scope=col>wt</th><th scope=col>qsec</th><th scope=col>vs</th><th scope=col>am</th><th scope=col>gear</th><th scope=col>carb</th><th scope=col>\"a\"</th></tr></thead>\n",
       "<tbody>\n",
       "\t<tr><th scope=row>Mazda RX4</th><td>21.0 </td><td>6    </td><td>160  </td><td>110  </td><td>3.90 </td><td>2.620</td><td>16.46</td><td>0    </td><td>1    </td><td>4    </td><td>4    </td><td>a    </td></tr>\n",
       "\t<tr><th scope=row>Mazda RX4 Wag</th><td>21.0 </td><td>6    </td><td>160  </td><td>110  </td><td>3.90 </td><td>2.875</td><td>17.02</td><td>0    </td><td>1    </td><td>4    </td><td>4    </td><td>a    </td></tr>\n",
       "\t<tr><th scope=row>Datsun 710</th><td>22.8 </td><td>4    </td><td>108  </td><td> 93  </td><td>3.85 </td><td>2.320</td><td>18.61</td><td>1    </td><td>1    </td><td>4    </td><td>1    </td><td>a    </td></tr>\n",
       "\t<tr><th scope=row>Hornet 4 Drive</th><td>21.4 </td><td>6    </td><td>258  </td><td>110  </td><td>3.08 </td><td>3.215</td><td>19.44</td><td>1    </td><td>0    </td><td>3    </td><td>1    </td><td>a    </td></tr>\n",
       "\t<tr><th scope=row>Hornet Sportabout</th><td>18.7 </td><td>8    </td><td>360  </td><td>175  </td><td>3.15 </td><td>3.440</td><td>17.02</td><td>0    </td><td>0    </td><td>3    </td><td>2    </td><td>a    </td></tr>\n",
       "\t<tr><th scope=row>Valiant</th><td>18.1 </td><td>6    </td><td>225  </td><td>105  </td><td>2.76 </td><td>3.460</td><td>20.22</td><td>1    </td><td>0    </td><td>3    </td><td>1    </td><td>a    </td></tr>\n",
       "</tbody>\n",
       "</table>\n"
      ],
      "text/latex": [
       "\\begin{tabular}{r|llllllllllll}\n",
       "  & mpg & cyl & disp & hp & drat & wt & qsec & vs & am & gear & carb & \"a\"\\\\\n",
       "\\hline\n",
       "\tMazda RX4 & 21.0  & 6     & 160   & 110   & 3.90  & 2.620 & 16.46 & 0     & 1     & 4     & 4     & a    \\\\\n",
       "\tMazda RX4 Wag & 21.0  & 6     & 160   & 110   & 3.90  & 2.875 & 17.02 & 0     & 1     & 4     & 4     & a    \\\\\n",
       "\tDatsun 710 & 22.8  & 4     & 108   &  93   & 3.85  & 2.320 & 18.61 & 1     & 1     & 4     & 1     & a    \\\\\n",
       "\tHornet 4 Drive & 21.4  & 6     & 258   & 110   & 3.08  & 3.215 & 19.44 & 1     & 0     & 3     & 1     & a    \\\\\n",
       "\tHornet Sportabout & 18.7  & 8     & 360   & 175   & 3.15  & 3.440 & 17.02 & 0     & 0     & 3     & 2     & a    \\\\\n",
       "\tValiant & 18.1  & 6     & 225   & 105   & 2.76  & 3.460 & 20.22 & 1     & 0     & 3     & 1     & a    \\\\\n",
       "\\end{tabular}\n"
      ],
      "text/markdown": [
       "\n",
       "| <!--/--> | mpg | cyl | disp | hp | drat | wt | qsec | vs | am | gear | carb | \"a\" | \n",
       "|---|---|---|---|---|---|\n",
       "| Mazda RX4 | 21.0  | 6     | 160   | 110   | 3.90  | 2.620 | 16.46 | 0     | 1     | 4     | 4     | a     | \n",
       "| Mazda RX4 Wag | 21.0  | 6     | 160   | 110   | 3.90  | 2.875 | 17.02 | 0     | 1     | 4     | 4     | a     | \n",
       "| Datsun 710 | 22.8  | 4     | 108   |  93   | 3.85  | 2.320 | 18.61 | 1     | 1     | 4     | 1     | a     | \n",
       "| Hornet 4 Drive | 21.4  | 6     | 258   | 110   | 3.08  | 3.215 | 19.44 | 1     | 0     | 3     | 1     | a     | \n",
       "| Hornet Sportabout | 18.7  | 8     | 360   | 175   | 3.15  | 3.440 | 17.02 | 0     | 0     | 3     | 2     | a     | \n",
       "| Valiant | 18.1  | 6     | 225   | 105   | 2.76  | 3.460 | 20.22 | 1     | 0     | 3     | 1     | a     | \n",
       "\n",
       "\n"
      ],
      "text/plain": [
       "                  mpg  cyl disp hp  drat wt    qsec  vs am gear carb \"a\"\n",
       "Mazda RX4         21.0 6   160  110 3.90 2.620 16.46 0  1  4    4    a  \n",
       "Mazda RX4 Wag     21.0 6   160  110 3.90 2.875 17.02 0  1  4    4    a  \n",
       "Datsun 710        22.8 4   108   93 3.85 2.320 18.61 1  1  4    1    a  \n",
       "Hornet 4 Drive    21.4 6   258  110 3.08 3.215 19.44 1  0  3    1    a  \n",
       "Hornet Sportabout 18.7 8   360  175 3.15 3.440 17.02 0  0  3    2    a  \n",
       "Valiant           18.1 6   225  105 2.76 3.460 20.22 1  0  3    1    a  "
      ]
     },
     "metadata": {},
     "output_type": "display_data"
    }
   ],
   "source": [
    "# 把 mtcars 加上一個新欄位，\n",
    "# 並把內容填 'a'\n",
    "mtcars_addnc <- cbind(mtcars, 'a')\n",
    "head(mtcars_addnc)"
   ]
  },
  {
   "cell_type": "markdown",
   "metadata": {},
   "source": [
    "如果要新增列呢？和 ```cbind()``` 很類似，可使用 ```rbind()``` 來新增列"
   ]
  },
  {
   "cell_type": "code",
   "execution_count": 2,
   "metadata": {},
   "outputs": [
    {
     "name": "stderr",
     "output_type": "stream",
     "text": [
      "Warning message in `[<-.factor`(`*tmp*`, ri, value = 0):\n",
      "“invalid factor level, NA generated”"
     ]
    },
    {
     "data": {
      "text/html": [
       "<table>\n",
       "<thead><tr><th></th><th scope=col>mpg</th><th scope=col>cyl</th><th scope=col>disp</th><th scope=col>hp</th><th scope=col>drat</th><th scope=col>wt</th><th scope=col>qsec</th><th scope=col>vs</th><th scope=col>am</th><th scope=col>gear</th><th scope=col>carb</th><th scope=col>\"a\"</th></tr></thead>\n",
       "<tbody>\n",
       "\t<tr><th scope=row>Mazda RX4</th><td>21.0 </td><td>6    </td><td>160.0</td><td>110  </td><td>3.90 </td><td>2.620</td><td>16.46</td><td>0    </td><td>1    </td><td>4    </td><td>4    </td><td>a    </td></tr>\n",
       "\t<tr><th scope=row>Mazda RX4 Wag</th><td>21.0 </td><td>6    </td><td>160.0</td><td>110  </td><td>3.90 </td><td>2.875</td><td>17.02</td><td>0    </td><td>1    </td><td>4    </td><td>4    </td><td>a    </td></tr>\n",
       "\t<tr><th scope=row>Datsun 710</th><td>22.8 </td><td>4    </td><td>108.0</td><td> 93  </td><td>3.85 </td><td>2.320</td><td>18.61</td><td>1    </td><td>1    </td><td>4    </td><td>1    </td><td>a    </td></tr>\n",
       "\t<tr><th scope=row>Hornet 4 Drive</th><td>21.4 </td><td>6    </td><td>258.0</td><td>110  </td><td>3.08 </td><td>3.215</td><td>19.44</td><td>1    </td><td>0    </td><td>3    </td><td>1    </td><td>a    </td></tr>\n",
       "\t<tr><th scope=row>Hornet Sportabout</th><td>18.7 </td><td>8    </td><td>360.0</td><td>175  </td><td>3.15 </td><td>3.440</td><td>17.02</td><td>0    </td><td>0    </td><td>3    </td><td>2    </td><td>a    </td></tr>\n",
       "\t<tr><th scope=row>Valiant</th><td>18.1 </td><td>6    </td><td>225.0</td><td>105  </td><td>2.76 </td><td>3.460</td><td>20.22</td><td>1    </td><td>0    </td><td>3    </td><td>1    </td><td>a    </td></tr>\n",
       "\t<tr><th scope=row>Duster 360</th><td>14.3 </td><td>8    </td><td>360.0</td><td>245  </td><td>3.21 </td><td>3.570</td><td>15.84</td><td>0    </td><td>0    </td><td>3    </td><td>4    </td><td>a    </td></tr>\n",
       "\t<tr><th scope=row>Merc 240D</th><td>24.4 </td><td>4    </td><td>146.7</td><td> 62  </td><td>3.69 </td><td>3.190</td><td>20.00</td><td>1    </td><td>0    </td><td>4    </td><td>2    </td><td>a    </td></tr>\n",
       "\t<tr><th scope=row>Merc 230</th><td>22.8 </td><td>4    </td><td>140.8</td><td> 95  </td><td>3.92 </td><td>3.150</td><td>22.90</td><td>1    </td><td>0    </td><td>4    </td><td>2    </td><td>a    </td></tr>\n",
       "\t<tr><th scope=row>Merc 280</th><td>19.2 </td><td>6    </td><td>167.6</td><td>123  </td><td>3.92 </td><td>3.440</td><td>18.30</td><td>1    </td><td>0    </td><td>4    </td><td>4    </td><td>a    </td></tr>\n",
       "\t<tr><th scope=row>Merc 280C</th><td>17.8 </td><td>6    </td><td>167.6</td><td>123  </td><td>3.92 </td><td>3.440</td><td>18.90</td><td>1    </td><td>0    </td><td>4    </td><td>4    </td><td>a    </td></tr>\n",
       "\t<tr><th scope=row>Merc 450SE</th><td>16.4 </td><td>8    </td><td>275.8</td><td>180  </td><td>3.07 </td><td>4.070</td><td>17.40</td><td>0    </td><td>0    </td><td>3    </td><td>3    </td><td>a    </td></tr>\n",
       "\t<tr><th scope=row>Merc 450SL</th><td>17.3 </td><td>8    </td><td>275.8</td><td>180  </td><td>3.07 </td><td>3.730</td><td>17.60</td><td>0    </td><td>0    </td><td>3    </td><td>3    </td><td>a    </td></tr>\n",
       "\t<tr><th scope=row>Merc 450SLC</th><td>15.2 </td><td>8    </td><td>275.8</td><td>180  </td><td>3.07 </td><td>3.780</td><td>18.00</td><td>0    </td><td>0    </td><td>3    </td><td>3    </td><td>a    </td></tr>\n",
       "\t<tr><th scope=row>Cadillac Fleetwood</th><td>10.4 </td><td>8    </td><td>472.0</td><td>205  </td><td>2.93 </td><td>5.250</td><td>17.98</td><td>0    </td><td>0    </td><td>3    </td><td>4    </td><td>a    </td></tr>\n",
       "\t<tr><th scope=row>Lincoln Continental</th><td>10.4 </td><td>8    </td><td>460.0</td><td>215  </td><td>3.00 </td><td>5.424</td><td>17.82</td><td>0    </td><td>0    </td><td>3    </td><td>4    </td><td>a    </td></tr>\n",
       "\t<tr><th scope=row>Chrysler Imperial</th><td>14.7 </td><td>8    </td><td>440.0</td><td>230  </td><td>3.23 </td><td>5.345</td><td>17.42</td><td>0    </td><td>0    </td><td>3    </td><td>4    </td><td>a    </td></tr>\n",
       "\t<tr><th scope=row>Fiat 128</th><td>32.4 </td><td>4    </td><td> 78.7</td><td> 66  </td><td>4.08 </td><td>2.200</td><td>19.47</td><td>1    </td><td>1    </td><td>4    </td><td>1    </td><td>a    </td></tr>\n",
       "\t<tr><th scope=row>Honda Civic</th><td>30.4 </td><td>4    </td><td> 75.7</td><td> 52  </td><td>4.93 </td><td>1.615</td><td>18.52</td><td>1    </td><td>1    </td><td>4    </td><td>2    </td><td>a    </td></tr>\n",
       "\t<tr><th scope=row>Toyota Corolla</th><td>33.9 </td><td>4    </td><td> 71.1</td><td> 65  </td><td>4.22 </td><td>1.835</td><td>19.90</td><td>1    </td><td>1    </td><td>4    </td><td>1    </td><td>a    </td></tr>\n",
       "\t<tr><th scope=row>Toyota Corona</th><td>21.5 </td><td>4    </td><td>120.1</td><td> 97  </td><td>3.70 </td><td>2.465</td><td>20.01</td><td>1    </td><td>0    </td><td>3    </td><td>1    </td><td>a    </td></tr>\n",
       "\t<tr><th scope=row>Dodge Challenger</th><td>15.5 </td><td>8    </td><td>318.0</td><td>150  </td><td>2.76 </td><td>3.520</td><td>16.87</td><td>0    </td><td>0    </td><td>3    </td><td>2    </td><td>a    </td></tr>\n",
       "\t<tr><th scope=row>AMC Javelin</th><td>15.2 </td><td>8    </td><td>304.0</td><td>150  </td><td>3.15 </td><td>3.435</td><td>17.30</td><td>0    </td><td>0    </td><td>3    </td><td>2    </td><td>a    </td></tr>\n",
       "\t<tr><th scope=row>Camaro Z28</th><td>13.3 </td><td>8    </td><td>350.0</td><td>245  </td><td>3.73 </td><td>3.840</td><td>15.41</td><td>0    </td><td>0    </td><td>3    </td><td>4    </td><td>a    </td></tr>\n",
       "\t<tr><th scope=row>Pontiac Firebird</th><td>19.2 </td><td>8    </td><td>400.0</td><td>175  </td><td>3.08 </td><td>3.845</td><td>17.05</td><td>0    </td><td>0    </td><td>3    </td><td>2    </td><td>a    </td></tr>\n",
       "\t<tr><th scope=row>Fiat X1-9</th><td>27.3 </td><td>4    </td><td> 79.0</td><td> 66  </td><td>4.08 </td><td>1.935</td><td>18.90</td><td>1    </td><td>1    </td><td>4    </td><td>1    </td><td>a    </td></tr>\n",
       "\t<tr><th scope=row>Porsche 914-2</th><td>26.0 </td><td>4    </td><td>120.3</td><td> 91  </td><td>4.43 </td><td>2.140</td><td>16.70</td><td>0    </td><td>1    </td><td>5    </td><td>2    </td><td>a    </td></tr>\n",
       "\t<tr><th scope=row>Lotus Europa</th><td>30.4 </td><td>4    </td><td> 95.1</td><td>113  </td><td>3.77 </td><td>1.513</td><td>16.90</td><td>1    </td><td>1    </td><td>5    </td><td>2    </td><td>a    </td></tr>\n",
       "\t<tr><th scope=row>Ford Pantera L</th><td>15.8 </td><td>8    </td><td>351.0</td><td>264  </td><td>4.22 </td><td>3.170</td><td>14.50</td><td>0    </td><td>1    </td><td>5    </td><td>4    </td><td>a    </td></tr>\n",
       "\t<tr><th scope=row>Ferrari Dino</th><td>19.7 </td><td>6    </td><td>145.0</td><td>175  </td><td>3.62 </td><td>2.770</td><td>15.50</td><td>0    </td><td>1    </td><td>5    </td><td>6    </td><td>a    </td></tr>\n",
       "\t<tr><th scope=row>Maserati Bora</th><td>15.0 </td><td>8    </td><td>301.0</td><td>335  </td><td>3.54 </td><td>3.570</td><td>14.60</td><td>0    </td><td>1    </td><td>5    </td><td>8    </td><td>a    </td></tr>\n",
       "\t<tr><th scope=row>Volvo 142E</th><td>21.4 </td><td>4    </td><td>121.0</td><td>109  </td><td>4.11 </td><td>2.780</td><td>18.60</td><td>1    </td><td>1    </td><td>4    </td><td>2    </td><td>a    </td></tr>\n",
       "\t<tr><th scope=row>33</th><td> 0.0 </td><td>0    </td><td>  0.0</td><td>  0  </td><td>0.00 </td><td>0.000</td><td> 0.00</td><td>0    </td><td>0    </td><td>0    </td><td>0    </td><td>NA   </td></tr>\n",
       "</tbody>\n",
       "</table>\n"
      ],
      "text/latex": [
       "\\begin{tabular}{r|llllllllllll}\n",
       "  & mpg & cyl & disp & hp & drat & wt & qsec & vs & am & gear & carb & \"a\"\\\\\n",
       "\\hline\n",
       "\tMazda RX4 & 21.0  & 6     & 160.0 & 110   & 3.90  & 2.620 & 16.46 & 0     & 1     & 4     & 4     & a    \\\\\n",
       "\tMazda RX4 Wag & 21.0  & 6     & 160.0 & 110   & 3.90  & 2.875 & 17.02 & 0     & 1     & 4     & 4     & a    \\\\\n",
       "\tDatsun 710 & 22.8  & 4     & 108.0 &  93   & 3.85  & 2.320 & 18.61 & 1     & 1     & 4     & 1     & a    \\\\\n",
       "\tHornet 4 Drive & 21.4  & 6     & 258.0 & 110   & 3.08  & 3.215 & 19.44 & 1     & 0     & 3     & 1     & a    \\\\\n",
       "\tHornet Sportabout & 18.7  & 8     & 360.0 & 175   & 3.15  & 3.440 & 17.02 & 0     & 0     & 3     & 2     & a    \\\\\n",
       "\tValiant & 18.1  & 6     & 225.0 & 105   & 2.76  & 3.460 & 20.22 & 1     & 0     & 3     & 1     & a    \\\\\n",
       "\tDuster 360 & 14.3  & 8     & 360.0 & 245   & 3.21  & 3.570 & 15.84 & 0     & 0     & 3     & 4     & a    \\\\\n",
       "\tMerc 240D & 24.4  & 4     & 146.7 &  62   & 3.69  & 3.190 & 20.00 & 1     & 0     & 4     & 2     & a    \\\\\n",
       "\tMerc 230 & 22.8  & 4     & 140.8 &  95   & 3.92  & 3.150 & 22.90 & 1     & 0     & 4     & 2     & a    \\\\\n",
       "\tMerc 280 & 19.2  & 6     & 167.6 & 123   & 3.92  & 3.440 & 18.30 & 1     & 0     & 4     & 4     & a    \\\\\n",
       "\tMerc 280C & 17.8  & 6     & 167.6 & 123   & 3.92  & 3.440 & 18.90 & 1     & 0     & 4     & 4     & a    \\\\\n",
       "\tMerc 450SE & 16.4  & 8     & 275.8 & 180   & 3.07  & 4.070 & 17.40 & 0     & 0     & 3     & 3     & a    \\\\\n",
       "\tMerc 450SL & 17.3  & 8     & 275.8 & 180   & 3.07  & 3.730 & 17.60 & 0     & 0     & 3     & 3     & a    \\\\\n",
       "\tMerc 450SLC & 15.2  & 8     & 275.8 & 180   & 3.07  & 3.780 & 18.00 & 0     & 0     & 3     & 3     & a    \\\\\n",
       "\tCadillac Fleetwood & 10.4  & 8     & 472.0 & 205   & 2.93  & 5.250 & 17.98 & 0     & 0     & 3     & 4     & a    \\\\\n",
       "\tLincoln Continental & 10.4  & 8     & 460.0 & 215   & 3.00  & 5.424 & 17.82 & 0     & 0     & 3     & 4     & a    \\\\\n",
       "\tChrysler Imperial & 14.7  & 8     & 440.0 & 230   & 3.23  & 5.345 & 17.42 & 0     & 0     & 3     & 4     & a    \\\\\n",
       "\tFiat 128 & 32.4  & 4     &  78.7 &  66   & 4.08  & 2.200 & 19.47 & 1     & 1     & 4     & 1     & a    \\\\\n",
       "\tHonda Civic & 30.4  & 4     &  75.7 &  52   & 4.93  & 1.615 & 18.52 & 1     & 1     & 4     & 2     & a    \\\\\n",
       "\tToyota Corolla & 33.9  & 4     &  71.1 &  65   & 4.22  & 1.835 & 19.90 & 1     & 1     & 4     & 1     & a    \\\\\n",
       "\tToyota Corona & 21.5  & 4     & 120.1 &  97   & 3.70  & 2.465 & 20.01 & 1     & 0     & 3     & 1     & a    \\\\\n",
       "\tDodge Challenger & 15.5  & 8     & 318.0 & 150   & 2.76  & 3.520 & 16.87 & 0     & 0     & 3     & 2     & a    \\\\\n",
       "\tAMC Javelin & 15.2  & 8     & 304.0 & 150   & 3.15  & 3.435 & 17.30 & 0     & 0     & 3     & 2     & a    \\\\\n",
       "\tCamaro Z28 & 13.3  & 8     & 350.0 & 245   & 3.73  & 3.840 & 15.41 & 0     & 0     & 3     & 4     & a    \\\\\n",
       "\tPontiac Firebird & 19.2  & 8     & 400.0 & 175   & 3.08  & 3.845 & 17.05 & 0     & 0     & 3     & 2     & a    \\\\\n",
       "\tFiat X1-9 & 27.3  & 4     &  79.0 &  66   & 4.08  & 1.935 & 18.90 & 1     & 1     & 4     & 1     & a    \\\\\n",
       "\tPorsche 914-2 & 26.0  & 4     & 120.3 &  91   & 4.43  & 2.140 & 16.70 & 0     & 1     & 5     & 2     & a    \\\\\n",
       "\tLotus Europa & 30.4  & 4     &  95.1 & 113   & 3.77  & 1.513 & 16.90 & 1     & 1     & 5     & 2     & a    \\\\\n",
       "\tFord Pantera L & 15.8  & 8     & 351.0 & 264   & 4.22  & 3.170 & 14.50 & 0     & 1     & 5     & 4     & a    \\\\\n",
       "\tFerrari Dino & 19.7  & 6     & 145.0 & 175   & 3.62  & 2.770 & 15.50 & 0     & 1     & 5     & 6     & a    \\\\\n",
       "\tMaserati Bora & 15.0  & 8     & 301.0 & 335   & 3.54  & 3.570 & 14.60 & 0     & 1     & 5     & 8     & a    \\\\\n",
       "\tVolvo 142E & 21.4  & 4     & 121.0 & 109   & 4.11  & 2.780 & 18.60 & 1     & 1     & 4     & 2     & a    \\\\\n",
       "\t33 &  0.0  & 0     &   0.0 &   0   & 0.00  & 0.000 &  0.00 & 0     & 0     & 0     & 0     & NA   \\\\\n",
       "\\end{tabular}\n"
      ],
      "text/markdown": [
       "\n",
       "| <!--/--> | mpg | cyl | disp | hp | drat | wt | qsec | vs | am | gear | carb | \"a\" | \n",
       "|---|---|---|---|---|---|---|---|---|---|---|---|---|---|---|---|---|---|---|---|---|---|---|---|---|---|---|---|---|---|---|---|---|\n",
       "| Mazda RX4 | 21.0  | 6     | 160.0 | 110   | 3.90  | 2.620 | 16.46 | 0     | 1     | 4     | 4     | a     | \n",
       "| Mazda RX4 Wag | 21.0  | 6     | 160.0 | 110   | 3.90  | 2.875 | 17.02 | 0     | 1     | 4     | 4     | a     | \n",
       "| Datsun 710 | 22.8  | 4     | 108.0 |  93   | 3.85  | 2.320 | 18.61 | 1     | 1     | 4     | 1     | a     | \n",
       "| Hornet 4 Drive | 21.4  | 6     | 258.0 | 110   | 3.08  | 3.215 | 19.44 | 1     | 0     | 3     | 1     | a     | \n",
       "| Hornet Sportabout | 18.7  | 8     | 360.0 | 175   | 3.15  | 3.440 | 17.02 | 0     | 0     | 3     | 2     | a     | \n",
       "| Valiant | 18.1  | 6     | 225.0 | 105   | 2.76  | 3.460 | 20.22 | 1     | 0     | 3     | 1     | a     | \n",
       "| Duster 360 | 14.3  | 8     | 360.0 | 245   | 3.21  | 3.570 | 15.84 | 0     | 0     | 3     | 4     | a     | \n",
       "| Merc 240D | 24.4  | 4     | 146.7 |  62   | 3.69  | 3.190 | 20.00 | 1     | 0     | 4     | 2     | a     | \n",
       "| Merc 230 | 22.8  | 4     | 140.8 |  95   | 3.92  | 3.150 | 22.90 | 1     | 0     | 4     | 2     | a     | \n",
       "| Merc 280 | 19.2  | 6     | 167.6 | 123   | 3.92  | 3.440 | 18.30 | 1     | 0     | 4     | 4     | a     | \n",
       "| Merc 280C | 17.8  | 6     | 167.6 | 123   | 3.92  | 3.440 | 18.90 | 1     | 0     | 4     | 4     | a     | \n",
       "| Merc 450SE | 16.4  | 8     | 275.8 | 180   | 3.07  | 4.070 | 17.40 | 0     | 0     | 3     | 3     | a     | \n",
       "| Merc 450SL | 17.3  | 8     | 275.8 | 180   | 3.07  | 3.730 | 17.60 | 0     | 0     | 3     | 3     | a     | \n",
       "| Merc 450SLC | 15.2  | 8     | 275.8 | 180   | 3.07  | 3.780 | 18.00 | 0     | 0     | 3     | 3     | a     | \n",
       "| Cadillac Fleetwood | 10.4  | 8     | 472.0 | 205   | 2.93  | 5.250 | 17.98 | 0     | 0     | 3     | 4     | a     | \n",
       "| Lincoln Continental | 10.4  | 8     | 460.0 | 215   | 3.00  | 5.424 | 17.82 | 0     | 0     | 3     | 4     | a     | \n",
       "| Chrysler Imperial | 14.7  | 8     | 440.0 | 230   | 3.23  | 5.345 | 17.42 | 0     | 0     | 3     | 4     | a     | \n",
       "| Fiat 128 | 32.4  | 4     |  78.7 |  66   | 4.08  | 2.200 | 19.47 | 1     | 1     | 4     | 1     | a     | \n",
       "| Honda Civic | 30.4  | 4     |  75.7 |  52   | 4.93  | 1.615 | 18.52 | 1     | 1     | 4     | 2     | a     | \n",
       "| Toyota Corolla | 33.9  | 4     |  71.1 |  65   | 4.22  | 1.835 | 19.90 | 1     | 1     | 4     | 1     | a     | \n",
       "| Toyota Corona | 21.5  | 4     | 120.1 |  97   | 3.70  | 2.465 | 20.01 | 1     | 0     | 3     | 1     | a     | \n",
       "| Dodge Challenger | 15.5  | 8     | 318.0 | 150   | 2.76  | 3.520 | 16.87 | 0     | 0     | 3     | 2     | a     | \n",
       "| AMC Javelin | 15.2  | 8     | 304.0 | 150   | 3.15  | 3.435 | 17.30 | 0     | 0     | 3     | 2     | a     | \n",
       "| Camaro Z28 | 13.3  | 8     | 350.0 | 245   | 3.73  | 3.840 | 15.41 | 0     | 0     | 3     | 4     | a     | \n",
       "| Pontiac Firebird | 19.2  | 8     | 400.0 | 175   | 3.08  | 3.845 | 17.05 | 0     | 0     | 3     | 2     | a     | \n",
       "| Fiat X1-9 | 27.3  | 4     |  79.0 |  66   | 4.08  | 1.935 | 18.90 | 1     | 1     | 4     | 1     | a     | \n",
       "| Porsche 914-2 | 26.0  | 4     | 120.3 |  91   | 4.43  | 2.140 | 16.70 | 0     | 1     | 5     | 2     | a     | \n",
       "| Lotus Europa | 30.4  | 4     |  95.1 | 113   | 3.77  | 1.513 | 16.90 | 1     | 1     | 5     | 2     | a     | \n",
       "| Ford Pantera L | 15.8  | 8     | 351.0 | 264   | 4.22  | 3.170 | 14.50 | 0     | 1     | 5     | 4     | a     | \n",
       "| Ferrari Dino | 19.7  | 6     | 145.0 | 175   | 3.62  | 2.770 | 15.50 | 0     | 1     | 5     | 6     | a     | \n",
       "| Maserati Bora | 15.0  | 8     | 301.0 | 335   | 3.54  | 3.570 | 14.60 | 0     | 1     | 5     | 8     | a     | \n",
       "| Volvo 142E | 21.4  | 4     | 121.0 | 109   | 4.11  | 2.780 | 18.60 | 1     | 1     | 4     | 2     | a     | \n",
       "| 33 |  0.0  | 0     |   0.0 |   0   | 0.00  | 0.000 |  0.00 | 0     | 0     | 0     | 0     | NA    | \n",
       "\n",
       "\n"
      ],
      "text/plain": [
       "                    mpg  cyl disp  hp  drat wt    qsec  vs am gear carb \"a\"\n",
       "Mazda RX4           21.0 6   160.0 110 3.90 2.620 16.46 0  1  4    4    a  \n",
       "Mazda RX4 Wag       21.0 6   160.0 110 3.90 2.875 17.02 0  1  4    4    a  \n",
       "Datsun 710          22.8 4   108.0  93 3.85 2.320 18.61 1  1  4    1    a  \n",
       "Hornet 4 Drive      21.4 6   258.0 110 3.08 3.215 19.44 1  0  3    1    a  \n",
       "Hornet Sportabout   18.7 8   360.0 175 3.15 3.440 17.02 0  0  3    2    a  \n",
       "Valiant             18.1 6   225.0 105 2.76 3.460 20.22 1  0  3    1    a  \n",
       "Duster 360          14.3 8   360.0 245 3.21 3.570 15.84 0  0  3    4    a  \n",
       "Merc 240D           24.4 4   146.7  62 3.69 3.190 20.00 1  0  4    2    a  \n",
       "Merc 230            22.8 4   140.8  95 3.92 3.150 22.90 1  0  4    2    a  \n",
       "Merc 280            19.2 6   167.6 123 3.92 3.440 18.30 1  0  4    4    a  \n",
       "Merc 280C           17.8 6   167.6 123 3.92 3.440 18.90 1  0  4    4    a  \n",
       "Merc 450SE          16.4 8   275.8 180 3.07 4.070 17.40 0  0  3    3    a  \n",
       "Merc 450SL          17.3 8   275.8 180 3.07 3.730 17.60 0  0  3    3    a  \n",
       "Merc 450SLC         15.2 8   275.8 180 3.07 3.780 18.00 0  0  3    3    a  \n",
       "Cadillac Fleetwood  10.4 8   472.0 205 2.93 5.250 17.98 0  0  3    4    a  \n",
       "Lincoln Continental 10.4 8   460.0 215 3.00 5.424 17.82 0  0  3    4    a  \n",
       "Chrysler Imperial   14.7 8   440.0 230 3.23 5.345 17.42 0  0  3    4    a  \n",
       "Fiat 128            32.4 4    78.7  66 4.08 2.200 19.47 1  1  4    1    a  \n",
       "Honda Civic         30.4 4    75.7  52 4.93 1.615 18.52 1  1  4    2    a  \n",
       "Toyota Corolla      33.9 4    71.1  65 4.22 1.835 19.90 1  1  4    1    a  \n",
       "Toyota Corona       21.5 4   120.1  97 3.70 2.465 20.01 1  0  3    1    a  \n",
       "Dodge Challenger    15.5 8   318.0 150 2.76 3.520 16.87 0  0  3    2    a  \n",
       "AMC Javelin         15.2 8   304.0 150 3.15 3.435 17.30 0  0  3    2    a  \n",
       "Camaro Z28          13.3 8   350.0 245 3.73 3.840 15.41 0  0  3    4    a  \n",
       "Pontiac Firebird    19.2 8   400.0 175 3.08 3.845 17.05 0  0  3    2    a  \n",
       "Fiat X1-9           27.3 4    79.0  66 4.08 1.935 18.90 1  1  4    1    a  \n",
       "Porsche 914-2       26.0 4   120.3  91 4.43 2.140 16.70 0  1  5    2    a  \n",
       "Lotus Europa        30.4 4    95.1 113 3.77 1.513 16.90 1  1  5    2    a  \n",
       "Ford Pantera L      15.8 8   351.0 264 4.22 3.170 14.50 0  1  5    4    a  \n",
       "Ferrari Dino        19.7 6   145.0 175 3.62 2.770 15.50 0  1  5    6    a  \n",
       "Maserati Bora       15.0 8   301.0 335 3.54 3.570 14.60 0  1  5    8    a  \n",
       "Volvo 142E          21.4 4   121.0 109 4.11 2.780 18.60 1  1  4    2    a  \n",
       "33                   0.0 0     0.0   0 0.00 0.000  0.00 0  0  0    0    NA "
      ]
     },
     "metadata": {},
     "output_type": "display_data"
    }
   ],
   "source": [
    "rbind(mtcars_addnc, 0)"
   ]
  },
  {
   "cell_type": "markdown",
   "metadata": {},
   "source": [
    "除了這樣新增的方式之外，```cbind()``` 和 ```rbind()``` 常常使用於組合兩個不同的 data.frame，我們把 mtcars 拆成兩個子資料集，來練習使用資料的組合。\n",
    "\n",
    "1. 先把 mtcars 拆成兩個不同的 data.frame，分別為 mtcars1 和 mtcars2，其中前者包含 mpg, cyl 和 disp；後者則是 hp, drat 以及 wt"
   ]
  },
  {
   "cell_type": "code",
   "execution_count": 3,
   "metadata": {},
   "outputs": [
    {
     "data": {
      "text/html": [
       "<table>\n",
       "<thead><tr><th></th><th scope=col>mpg</th><th scope=col>cyl</th><th scope=col>disp</th></tr></thead>\n",
       "<tbody>\n",
       "\t<tr><th scope=row>Mazda RX4</th><td>21.0</td><td>6   </td><td>160 </td></tr>\n",
       "\t<tr><th scope=row>Mazda RX4 Wag</th><td>21.0</td><td>6   </td><td>160 </td></tr>\n",
       "\t<tr><th scope=row>Datsun 710</th><td>22.8</td><td>4   </td><td>108 </td></tr>\n",
       "\t<tr><th scope=row>Hornet 4 Drive</th><td>21.4</td><td>6   </td><td>258 </td></tr>\n",
       "\t<tr><th scope=row>Hornet Sportabout</th><td>18.7</td><td>8   </td><td>360 </td></tr>\n",
       "\t<tr><th scope=row>Valiant</th><td>18.1</td><td>6   </td><td>225 </td></tr>\n",
       "</tbody>\n",
       "</table>\n"
      ],
      "text/latex": [
       "\\begin{tabular}{r|lll}\n",
       "  & mpg & cyl & disp\\\\\n",
       "\\hline\n",
       "\tMazda RX4 & 21.0 & 6    & 160 \\\\\n",
       "\tMazda RX4 Wag & 21.0 & 6    & 160 \\\\\n",
       "\tDatsun 710 & 22.8 & 4    & 108 \\\\\n",
       "\tHornet 4 Drive & 21.4 & 6    & 258 \\\\\n",
       "\tHornet Sportabout & 18.7 & 8    & 360 \\\\\n",
       "\tValiant & 18.1 & 6    & 225 \\\\\n",
       "\\end{tabular}\n"
      ],
      "text/markdown": [
       "\n",
       "| <!--/--> | mpg | cyl | disp | \n",
       "|---|---|---|---|---|---|\n",
       "| Mazda RX4 | 21.0 | 6    | 160  | \n",
       "| Mazda RX4 Wag | 21.0 | 6    | 160  | \n",
       "| Datsun 710 | 22.8 | 4    | 108  | \n",
       "| Hornet 4 Drive | 21.4 | 6    | 258  | \n",
       "| Hornet Sportabout | 18.7 | 8    | 360  | \n",
       "| Valiant | 18.1 | 6    | 225  | \n",
       "\n",
       "\n"
      ],
      "text/plain": [
       "                  mpg  cyl disp\n",
       "Mazda RX4         21.0 6   160 \n",
       "Mazda RX4 Wag     21.0 6   160 \n",
       "Datsun 710        22.8 4   108 \n",
       "Hornet 4 Drive    21.4 6   258 \n",
       "Hornet Sportabout 18.7 8   360 \n",
       "Valiant           18.1 6   225 "
      ]
     },
     "metadata": {},
     "output_type": "display_data"
    }
   ],
   "source": [
    "# 把 mtcars 拆成兩個子資料集(subset)\n",
    "mtcars1 <- mtcars[, c('mpg','cyl','disp')]\n",
    "head(mtcars1)"
   ]
  },
  {
   "cell_type": "code",
   "execution_count": 4,
   "metadata": {},
   "outputs": [
    {
     "data": {
      "text/html": [
       "<table>\n",
       "<thead><tr><th></th><th scope=col>hp</th><th scope=col>drat</th><th scope=col>wt</th></tr></thead>\n",
       "<tbody>\n",
       "\t<tr><th scope=row>Mazda RX4</th><td>110  </td><td>3.90 </td><td>2.620</td></tr>\n",
       "\t<tr><th scope=row>Mazda RX4 Wag</th><td>110  </td><td>3.90 </td><td>2.875</td></tr>\n",
       "\t<tr><th scope=row>Datsun 710</th><td> 93  </td><td>3.85 </td><td>2.320</td></tr>\n",
       "\t<tr><th scope=row>Hornet 4 Drive</th><td>110  </td><td>3.08 </td><td>3.215</td></tr>\n",
       "\t<tr><th scope=row>Hornet Sportabout</th><td>175  </td><td>3.15 </td><td>3.440</td></tr>\n",
       "\t<tr><th scope=row>Valiant</th><td>105  </td><td>2.76 </td><td>3.460</td></tr>\n",
       "</tbody>\n",
       "</table>\n"
      ],
      "text/latex": [
       "\\begin{tabular}{r|lll}\n",
       "  & hp & drat & wt\\\\\n",
       "\\hline\n",
       "\tMazda RX4 & 110   & 3.90  & 2.620\\\\\n",
       "\tMazda RX4 Wag & 110   & 3.90  & 2.875\\\\\n",
       "\tDatsun 710 &  93   & 3.85  & 2.320\\\\\n",
       "\tHornet 4 Drive & 110   & 3.08  & 3.215\\\\\n",
       "\tHornet Sportabout & 175   & 3.15  & 3.440\\\\\n",
       "\tValiant & 105   & 2.76  & 3.460\\\\\n",
       "\\end{tabular}\n"
      ],
      "text/markdown": [
       "\n",
       "| <!--/--> | hp | drat | wt | \n",
       "|---|---|---|---|---|---|\n",
       "| Mazda RX4 | 110   | 3.90  | 2.620 | \n",
       "| Mazda RX4 Wag | 110   | 3.90  | 2.875 | \n",
       "| Datsun 710 |  93   | 3.85  | 2.320 | \n",
       "| Hornet 4 Drive | 110   | 3.08  | 3.215 | \n",
       "| Hornet Sportabout | 175   | 3.15  | 3.440 | \n",
       "| Valiant | 105   | 2.76  | 3.460 | \n",
       "\n",
       "\n"
      ],
      "text/plain": [
       "                  hp  drat wt   \n",
       "Mazda RX4         110 3.90 2.620\n",
       "Mazda RX4 Wag     110 3.90 2.875\n",
       "Datsun 710         93 3.85 2.320\n",
       "Hornet 4 Drive    110 3.08 3.215\n",
       "Hornet Sportabout 175 3.15 3.440\n",
       "Valiant           105 2.76 3.460"
      ]
     },
     "metadata": {},
     "output_type": "display_data"
    }
   ],
   "source": [
    "mtcars2 <- mtcars[, c('hp','drat','wt')]\n",
    "head(mtcars2)"
   ]
  },
  {
   "cell_type": "markdown",
   "metadata": {},
   "source": [
    "2. 使用使用 cbind 把 mtcars1 和 mtcars2 合在一起"
   ]
  },
  {
   "cell_type": "code",
   "execution_count": 5,
   "metadata": {},
   "outputs": [
    {
     "data": {
      "text/html": [
       "<table>\n",
       "<thead><tr><th></th><th scope=col>mpg</th><th scope=col>cyl</th><th scope=col>disp</th><th scope=col>hp</th><th scope=col>drat</th><th scope=col>wt</th></tr></thead>\n",
       "<tbody>\n",
       "\t<tr><th scope=row>Mazda RX4</th><td>21.0 </td><td>6    </td><td>160  </td><td>110  </td><td>3.90 </td><td>2.620</td></tr>\n",
       "\t<tr><th scope=row>Mazda RX4 Wag</th><td>21.0 </td><td>6    </td><td>160  </td><td>110  </td><td>3.90 </td><td>2.875</td></tr>\n",
       "\t<tr><th scope=row>Datsun 710</th><td>22.8 </td><td>4    </td><td>108  </td><td> 93  </td><td>3.85 </td><td>2.320</td></tr>\n",
       "\t<tr><th scope=row>Hornet 4 Drive</th><td>21.4 </td><td>6    </td><td>258  </td><td>110  </td><td>3.08 </td><td>3.215</td></tr>\n",
       "\t<tr><th scope=row>Hornet Sportabout</th><td>18.7 </td><td>8    </td><td>360  </td><td>175  </td><td>3.15 </td><td>3.440</td></tr>\n",
       "\t<tr><th scope=row>Valiant</th><td>18.1 </td><td>6    </td><td>225  </td><td>105  </td><td>2.76 </td><td>3.460</td></tr>\n",
       "</tbody>\n",
       "</table>\n"
      ],
      "text/latex": [
       "\\begin{tabular}{r|llllll}\n",
       "  & mpg & cyl & disp & hp & drat & wt\\\\\n",
       "\\hline\n",
       "\tMazda RX4 & 21.0  & 6     & 160   & 110   & 3.90  & 2.620\\\\\n",
       "\tMazda RX4 Wag & 21.0  & 6     & 160   & 110   & 3.90  & 2.875\\\\\n",
       "\tDatsun 710 & 22.8  & 4     & 108   &  93   & 3.85  & 2.320\\\\\n",
       "\tHornet 4 Drive & 21.4  & 6     & 258   & 110   & 3.08  & 3.215\\\\\n",
       "\tHornet Sportabout & 18.7  & 8     & 360   & 175   & 3.15  & 3.440\\\\\n",
       "\tValiant & 18.1  & 6     & 225   & 105   & 2.76  & 3.460\\\\\n",
       "\\end{tabular}\n"
      ],
      "text/markdown": [
       "\n",
       "| <!--/--> | mpg | cyl | disp | hp | drat | wt | \n",
       "|---|---|---|---|---|---|\n",
       "| Mazda RX4 | 21.0  | 6     | 160   | 110   | 3.90  | 2.620 | \n",
       "| Mazda RX4 Wag | 21.0  | 6     | 160   | 110   | 3.90  | 2.875 | \n",
       "| Datsun 710 | 22.8  | 4     | 108   |  93   | 3.85  | 2.320 | \n",
       "| Hornet 4 Drive | 21.4  | 6     | 258   | 110   | 3.08  | 3.215 | \n",
       "| Hornet Sportabout | 18.7  | 8     | 360   | 175   | 3.15  | 3.440 | \n",
       "| Valiant | 18.1  | 6     | 225   | 105   | 2.76  | 3.460 | \n",
       "\n",
       "\n"
      ],
      "text/plain": [
       "                  mpg  cyl disp hp  drat wt   \n",
       "Mazda RX4         21.0 6   160  110 3.90 2.620\n",
       "Mazda RX4 Wag     21.0 6   160  110 3.90 2.875\n",
       "Datsun 710        22.8 4   108   93 3.85 2.320\n",
       "Hornet 4 Drive    21.4 6   258  110 3.08 3.215\n",
       "Hornet Sportabout 18.7 8   360  175 3.15 3.440\n",
       "Valiant           18.1 6   225  105 2.76 3.460"
      ]
     },
     "metadata": {},
     "output_type": "display_data"
    }
   ],
   "source": [
    "mtcars_cbind <- cbind(mtcars1, mtcars2)\n",
    "# 合併完之後看一下前幾筆是否正常\n",
    "head(mtcars_cbind)"
   ]
  },
  {
   "cell_type": "markdown",
   "metadata": {},
   "source": [
    "同樣的，```rbind()``` 也可以用來組合兩個以上的 data.frame。不過如果你直接使用 ```rbind(mtcars1, mtcars2)```是無法成功的，因為兩個 data.frame 的欄位名稱是不同的。所以在合併多個 data.frame 時，一定要有相同的欄位，以[關聯式資料庫(relational database)](https://zh.wikipedia.org/zh-tw/關聯式資料庫)的術語來說就是要有一組 key (鍵)，這組鍵可以把不同的資料表(data table，在這裡我們指的是兩個或以上的資料集)連結起來，此稱之為 join。在 R 裡頭內建的 ```merge()``` 就是一種 join 的方式(即 inner join)，另外還有 left join 以及 right join 等，其示意圖如圖一，假設有兩個 data.frame df1 及 df2，如果 join 的方式要保留 df1 中所有的元素，這稱之為 left join；同樣地如果要保留 df2 所有的元素，則稱為 right join；如果只保留有交集的元素，我們稱之為 inner join。下一節我們將介紹如何使用 merge 來合併資料。\n",
    "\n",
    "\n",
    "![](https://github.com/mutolisp/ecoinformatics_course/blob/master/images/join.png?raw=true)\n",
    "圖一、不同類型的 join"
   ]
  },
  {
   "cell_type": "markdown",
   "metadata": {},
   "source": [
    "## 使用 merge 來合併資料\n",
    "\n",
    "如果你曾經使用過 Excel 或是類似的試算表軟體，有個功能 vlookup 和這裡的 merge 是非常類似的，都可以針對某個相同欄位來合併資料。我們把合併資料的概念圖繪製如下呈現：\n",
    "\n",
    "![](https://github.com/mutolisp/ecoinformatics_course/blob/master/images/data_merge.png?raw=true)\n",
    "圖二、針對相同欄位合併的示意圖\n",
    "\n",
    "假設有兩個 data.frame ，其中各有一個欄位 X 都是相同的，我們就可以針對 X 把這兩個 data.frame 合併在一起。在 R 裡頭我們可以這樣做："
   ]
  },
  {
   "cell_type": "code",
   "execution_count": 6,
   "metadata": {},
   "outputs": [],
   "source": [
    "# 先建立虛擬的 data.frame\n",
    "# x,y,z,a,b 都是一維的 vector\n",
    "x <- c(1,3,5,7)\n",
    "y <- c('a','b','a','c')\n",
    "z <- rnorm(4)\n",
    "a <- sample(4)\n",
    "b <- c('F','F','T','T')\n",
    "# 使用 cbind 組合起來，再轉成 data.frame 格式\n",
    "df1 <- as.data.frame(cbind(x,y,z))\n",
    "df2 <- as.data.frame(cbind(x,a,b))"
   ]
  },
  {
   "cell_type": "code",
   "execution_count": 7,
   "metadata": {},
   "outputs": [
    {
     "data": {
      "text/html": [
       "<table>\n",
       "<thead><tr><th scope=col>x</th><th scope=col>y</th><th scope=col>z</th></tr></thead>\n",
       "<tbody>\n",
       "\t<tr><td>1                 </td><td>a                 </td><td>0.0651633549863642</td></tr>\n",
       "\t<tr><td>3                 </td><td>b                 </td><td>0.580618241533372 </td></tr>\n",
       "\t<tr><td>5                 </td><td>a                 </td><td>-1.11954914941561 </td></tr>\n",
       "\t<tr><td>7                 </td><td>c                 </td><td>-0.410145737362373</td></tr>\n",
       "</tbody>\n",
       "</table>\n"
      ],
      "text/latex": [
       "\\begin{tabular}{r|lll}\n",
       " x & y & z\\\\\n",
       "\\hline\n",
       "\t 1                  & a                  & 0.0651633549863642\\\\\n",
       "\t 3                  & b                  & 0.580618241533372 \\\\\n",
       "\t 5                  & a                  & -1.11954914941561 \\\\\n",
       "\t 7                  & c                  & -0.410145737362373\\\\\n",
       "\\end{tabular}\n"
      ],
      "text/markdown": [
       "\n",
       "x | y | z | \n",
       "|---|---|---|---|\n",
       "| 1                  | a                  | 0.0651633549863642 | \n",
       "| 3                  | b                  | 0.580618241533372  | \n",
       "| 5                  | a                  | -1.11954914941561  | \n",
       "| 7                  | c                  | -0.410145737362373 | \n",
       "\n",
       "\n"
      ],
      "text/plain": [
       "  x y z                 \n",
       "1 1 a 0.0651633549863642\n",
       "2 3 b 0.580618241533372 \n",
       "3 5 a -1.11954914941561 \n",
       "4 7 c -0.410145737362373"
      ]
     },
     "metadata": {},
     "output_type": "display_data"
    }
   ],
   "source": [
    "# 顯示 df1 \n",
    "df1"
   ]
  },
  {
   "cell_type": "code",
   "execution_count": 8,
   "metadata": {},
   "outputs": [
    {
     "data": {
      "text/html": [
       "<table>\n",
       "<thead><tr><th scope=col>x</th><th scope=col>a</th><th scope=col>b</th></tr></thead>\n",
       "<tbody>\n",
       "\t<tr><td>1</td><td>4</td><td>F</td></tr>\n",
       "\t<tr><td>3</td><td>2</td><td>F</td></tr>\n",
       "\t<tr><td>5</td><td>1</td><td>T</td></tr>\n",
       "\t<tr><td>7</td><td>3</td><td>T</td></tr>\n",
       "</tbody>\n",
       "</table>\n"
      ],
      "text/latex": [
       "\\begin{tabular}{r|lll}\n",
       " x & a & b\\\\\n",
       "\\hline\n",
       "\t 1 & 4 & F\\\\\n",
       "\t 3 & 2 & F\\\\\n",
       "\t 5 & 1 & T\\\\\n",
       "\t 7 & 3 & T\\\\\n",
       "\\end{tabular}\n"
      ],
      "text/markdown": [
       "\n",
       "x | a | b | \n",
       "|---|---|---|---|\n",
       "| 1 | 4 | F | \n",
       "| 3 | 2 | F | \n",
       "| 5 | 1 | T | \n",
       "| 7 | 3 | T | \n",
       "\n",
       "\n"
      ],
      "text/plain": [
       "  x a b\n",
       "1 1 4 F\n",
       "2 3 2 F\n",
       "3 5 1 T\n",
       "4 7 3 T"
      ]
     },
     "metadata": {},
     "output_type": "display_data"
    }
   ],
   "source": [
    "# 顯示 df2\n",
    "df2"
   ]
  },
  {
   "cell_type": "code",
   "execution_count": 9,
   "metadata": {},
   "outputs": [
    {
     "data": {
      "text/html": [
       "<table>\n",
       "<thead><tr><th scope=col>x</th><th scope=col>y</th><th scope=col>z</th><th scope=col>a</th><th scope=col>b</th></tr></thead>\n",
       "<tbody>\n",
       "\t<tr><td>1                 </td><td>a                 </td><td>0.0651633549863642</td><td>4                 </td><td>F                 </td></tr>\n",
       "\t<tr><td>3                 </td><td>b                 </td><td>0.580618241533372 </td><td>2                 </td><td>F                 </td></tr>\n",
       "\t<tr><td>5                 </td><td>a                 </td><td>-1.11954914941561 </td><td>1                 </td><td>T                 </td></tr>\n",
       "\t<tr><td>7                 </td><td>c                 </td><td>-0.410145737362373</td><td>3                 </td><td>T                 </td></tr>\n",
       "</tbody>\n",
       "</table>\n"
      ],
      "text/latex": [
       "\\begin{tabular}{r|lllll}\n",
       " x & y & z & a & b\\\\\n",
       "\\hline\n",
       "\t 1                  & a                  & 0.0651633549863642 & 4                  & F                 \\\\\n",
       "\t 3                  & b                  & 0.580618241533372  & 2                  & F                 \\\\\n",
       "\t 5                  & a                  & -1.11954914941561  & 1                  & T                 \\\\\n",
       "\t 7                  & c                  & -0.410145737362373 & 3                  & T                 \\\\\n",
       "\\end{tabular}\n"
      ],
      "text/markdown": [
       "\n",
       "x | y | z | a | b | \n",
       "|---|---|---|---|\n",
       "| 1                  | a                  | 0.0651633549863642 | 4                  | F                  | \n",
       "| 3                  | b                  | 0.580618241533372  | 2                  | F                  | \n",
       "| 5                  | a                  | -1.11954914941561  | 1                  | T                  | \n",
       "| 7                  | c                  | -0.410145737362373 | 3                  | T                  | \n",
       "\n",
       "\n"
      ],
      "text/plain": [
       "  x y z                  a b\n",
       "1 1 a 0.0651633549863642 4 F\n",
       "2 3 b 0.580618241533372  2 F\n",
       "3 5 a -1.11954914941561  1 T\n",
       "4 7 c -0.410145737362373 3 T"
      ]
     },
     "metadata": {},
     "output_type": "display_data"
    }
   ],
   "source": [
    "# 合併 df1 和 df2\n",
    "merge(df1, df2)"
   ]
  },
  {
   "cell_type": "markdown",
   "metadata": {},
   "source": [
    "## 進階的 merge: 不同的 join 方式\n",
    "\n",
    "前一小節的範例中，df1 和 df2 共有的欄位 x 都有四個相同數值(也就是 1,3,5,7)，可是如果 df1 少了一個數值(假設把第四列移除)，和 df2 合併的時候結果會怎麼樣呢？示意圖請參照圖三\n",
    "\n",
    "![](https://github.com/mutolisp/ecoinformatics_course/blob/master/images/data_merge_na.png?raw=true)\n",
    "圖三、當 df1 沒有 df2 的數值時\n",
    "\n",
    "所以如果要保留所有 df2 的 X 欄位，合併完的 Y 欄位和 Z 欄位的 x41 就對應不到 df1 中之數值，所以會留空。以 ```merge()``` 來說，預設會使用 inner join，也就是只有 df1 和 df2 交集的資料才會合併在一起："
   ]
  },
  {
   "cell_type": "code",
   "execution_count": 10,
   "metadata": {},
   "outputs": [
    {
     "data": {
      "text/html": [
       "<table>\n",
       "<thead><tr><th scope=col>x</th><th scope=col>y</th><th scope=col>z</th><th scope=col>a</th><th scope=col>b</th></tr></thead>\n",
       "<tbody>\n",
       "\t<tr><td>1                 </td><td>a                 </td><td>0.0651633549863642</td><td>4                 </td><td>F                 </td></tr>\n",
       "\t<tr><td>3                 </td><td>b                 </td><td>0.580618241533372 </td><td>2                 </td><td>F                 </td></tr>\n",
       "\t<tr><td>5                 </td><td>a                 </td><td>-1.11954914941561 </td><td>1                 </td><td>T                 </td></tr>\n",
       "</tbody>\n",
       "</table>\n"
      ],
      "text/latex": [
       "\\begin{tabular}{r|lllll}\n",
       " x & y & z & a & b\\\\\n",
       "\\hline\n",
       "\t 1                  & a                  & 0.0651633549863642 & 4                  & F                 \\\\\n",
       "\t 3                  & b                  & 0.580618241533372  & 2                  & F                 \\\\\n",
       "\t 5                  & a                  & -1.11954914941561  & 1                  & T                 \\\\\n",
       "\\end{tabular}\n"
      ],
      "text/markdown": [
       "\n",
       "x | y | z | a | b | \n",
       "|---|---|---|\n",
       "| 1                  | a                  | 0.0651633549863642 | 4                  | F                  | \n",
       "| 3                  | b                  | 0.580618241533372  | 2                  | F                  | \n",
       "| 5                  | a                  | -1.11954914941561  | 1                  | T                  | \n",
       "\n",
       "\n"
      ],
      "text/plain": [
       "  x y z                  a b\n",
       "1 1 a 0.0651633549863642 4 F\n",
       "2 3 b 0.580618241533372  2 F\n",
       "3 5 a -1.11954914941561  1 T"
      ]
     },
     "metadata": {},
     "output_type": "display_data"
    }
   ],
   "source": [
    "# 把第四列數值拿掉\n",
    "df1 <- df1[-4,]\n",
    "# 如果 df1 或 df2 其中有數值沒有對應到\n",
    "# merge 預設會用 inner join (只有交集)\n",
    "merge(df1, df2)"
   ]
  },
  {
   "cell_type": "markdown",
   "metadata": {},
   "source": [
    "如果要實作 left 或 right join 呢？```merge()``` 中只要加上參數 ```all.x = TRUE``` 或是 ```all.y = TRUE``` 即可，x 指的是第一個提到的 df1， y 則是 df2，也可以直接在 ```merge()``` 的參數中指定，例如 ```merge(x=df1, y=df2)```。"
   ]
  },
  {
   "cell_type": "code",
   "execution_count": 11,
   "metadata": {},
   "outputs": [
    {
     "data": {
      "text/html": [
       "<table>\n",
       "<thead><tr><th scope=col>x</th><th scope=col>y</th><th scope=col>z</th><th scope=col>a</th><th scope=col>b</th></tr></thead>\n",
       "<tbody>\n",
       "\t<tr><td>1                 </td><td>a                 </td><td>0.0651633549863642</td><td>4                 </td><td>F                 </td></tr>\n",
       "\t<tr><td>3                 </td><td>b                 </td><td>0.580618241533372 </td><td>2                 </td><td>F                 </td></tr>\n",
       "\t<tr><td>5                 </td><td>a                 </td><td>-1.11954914941561 </td><td>1                 </td><td>T                 </td></tr>\n",
       "</tbody>\n",
       "</table>\n"
      ],
      "text/latex": [
       "\\begin{tabular}{r|lllll}\n",
       " x & y & z & a & b\\\\\n",
       "\\hline\n",
       "\t 1                  & a                  & 0.0651633549863642 & 4                  & F                 \\\\\n",
       "\t 3                  & b                  & 0.580618241533372  & 2                  & F                 \\\\\n",
       "\t 5                  & a                  & -1.11954914941561  & 1                  & T                 \\\\\n",
       "\\end{tabular}\n"
      ],
      "text/markdown": [
       "\n",
       "x | y | z | a | b | \n",
       "|---|---|---|\n",
       "| 1                  | a                  | 0.0651633549863642 | 4                  | F                  | \n",
       "| 3                  | b                  | 0.580618241533372  | 2                  | F                  | \n",
       "| 5                  | a                  | -1.11954914941561  | 1                  | T                  | \n",
       "\n",
       "\n"
      ],
      "text/plain": [
       "  x y z                  a b\n",
       "1 1 a 0.0651633549863642 4 F\n",
       "2 3 b 0.580618241533372  2 F\n",
       "3 5 a -1.11954914941561  1 T"
      ]
     },
     "metadata": {},
     "output_type": "display_data"
    }
   ],
   "source": [
    "# left join\n",
    "merge(df1, df2, all.x = TRUE)"
   ]
  },
  {
   "cell_type": "code",
   "execution_count": 12,
   "metadata": {},
   "outputs": [
    {
     "data": {
      "text/html": [
       "<table>\n",
       "<thead><tr><th scope=col>x</th><th scope=col>y</th><th scope=col>z</th><th scope=col>a</th><th scope=col>b</th></tr></thead>\n",
       "<tbody>\n",
       "\t<tr><td>1                 </td><td>a                 </td><td>0.0651633549863642</td><td>4                 </td><td>F                 </td></tr>\n",
       "\t<tr><td>3                 </td><td>b                 </td><td>0.580618241533372 </td><td>2                 </td><td>F                 </td></tr>\n",
       "\t<tr><td>5                 </td><td>a                 </td><td>-1.11954914941561 </td><td>1                 </td><td>T                 </td></tr>\n",
       "\t<tr><td>7                 </td><td>NA                </td><td>NA                </td><td>3                 </td><td>T                 </td></tr>\n",
       "</tbody>\n",
       "</table>\n"
      ],
      "text/latex": [
       "\\begin{tabular}{r|lllll}\n",
       " x & y & z & a & b\\\\\n",
       "\\hline\n",
       "\t 1                  & a                  & 0.0651633549863642 & 4                  & F                 \\\\\n",
       "\t 3                  & b                  & 0.580618241533372  & 2                  & F                 \\\\\n",
       "\t 5                  & a                  & -1.11954914941561  & 1                  & T                 \\\\\n",
       "\t 7                  & NA                 & NA                 & 3                  & T                 \\\\\n",
       "\\end{tabular}\n"
      ],
      "text/markdown": [
       "\n",
       "x | y | z | a | b | \n",
       "|---|---|---|---|\n",
       "| 1                  | a                  | 0.0651633549863642 | 4                  | F                  | \n",
       "| 3                  | b                  | 0.580618241533372  | 2                  | F                  | \n",
       "| 5                  | a                  | -1.11954914941561  | 1                  | T                  | \n",
       "| 7                  | NA                 | NA                 | 3                  | T                  | \n",
       "\n",
       "\n"
      ],
      "text/plain": [
       "  x y  z                  a b\n",
       "1 1 a  0.0651633549863642 4 F\n",
       "2 3 b  0.580618241533372  2 F\n",
       "3 5 a  -1.11954914941561  1 T\n",
       "4 7 NA NA                 3 T"
      ]
     },
     "metadata": {},
     "output_type": "display_data"
    }
   ],
   "source": [
    "# right join\n",
    "merge(df1, df2, all.y = TRUE)"
   ]
  },
  {
   "cell_type": "markdown",
   "metadata": {},
   "source": [
    "[本節範例 code 下載](https://raw.githubusercontent.com/mutolisp/ecoinformatics_course/master/demos/data_merge.R)"
   ]
  },
  {
   "cell_type": "code",
   "execution_count": null,
   "metadata": {},
   "outputs": [],
   "source": []
  }
 ],
 "metadata": {
  "kernelspec": {
   "display_name": "R",
   "language": "R",
   "name": "ir"
  },
  "language_info": {
   "codemirror_mode": "r",
   "file_extension": ".r",
   "mimetype": "text/x-r-source",
   "name": "R",
   "pygments_lexer": "r",
   "version": "3.5.0"
  }
 },
 "nbformat": 4,
 "nbformat_minor": 2
}
